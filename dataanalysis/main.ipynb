{
 "cells": [
  {
   "cell_type": "code",
   "id": "initial_id",
   "metadata": {
    "collapsed": true,
    "ExecuteTime": {
     "end_time": "2024-04-29T06:31:04.528746Z",
     "start_time": "2024-04-29T06:31:04.521968Z"
    }
   },
   "source": [
    "import numpy as np\n",
    "\n",
    "def read_sort(file_path):\n",
    "    data=np.loadtxt(file_path)\n",
    "    data_index=np.argsort(-abs(data))\n",
    "    return data,data_index\n",
    "\n",
    "if __name__ == '__main__':\n",
    "    MTLLabel,MTLLable_index=read_sort('./label/MTL_Male.dat')\n",
    "    CMTLLable,CMTLLable_index=read_sort('./label/CMTL_Male.dat')\n",
    "    CEMTLLable,CEMTLLable_index=read_sort('./label/CEMTL_Male.dat')\n",
    "    \n",
    "    print(MTLLabel,'   ',MTLLable_index)"
   ],
   "outputs": [
    {
     "name": "stdout",
     "output_type": "stream",
     "text": [
      "[-7.7546e-05 -3.7860e-04 -1.1856e-04 ... -4.3105e-05 -5.0434e-05\n",
      " -4.0889e-05]     [ 912 1149  739 ... 2289 1126 1719]\n"
     ]
    }
   ],
   "execution_count": 5
  },
  {
   "metadata": {
    "ExecuteTime": {
     "end_time": "2024-04-29T06:31:04.623903Z",
     "start_time": "2024-04-29T06:31:04.532502Z"
    }
   },
   "cell_type": "code",
   "source": [
    "def read_train(file_path):\n",
    "    TrainSample=np.loadtxt(file_path,delimiter=',')\n",
    "    TrainSample_row,TrainSample_col=TrainSample.shape\n",
    "    \n",
    "    print(TrainSample_row,TrainSample_col)\n",
    "    \n",
    "    k=200\n",
    "    \n",
    "    selected_dim=MTLLable_index[0:k]\n",
    "    TrainSub=TrainSample[:,selected_dim]\n",
    "    Train_Label=np.ones(1000)\n",
    "    Train_Label[500:]=2\n",
    "    return TrainSub,Train_Label\n",
    "    \n",
    "if __name__=='__main__':\n",
    "    TrainSub,Train_Label=read_train('./train/MTL_Male_train.dat')"
   ],
   "id": "a72b79d4ba8c8f90",
   "outputs": [
    {
     "name": "stdout",
     "output_type": "stream",
     "text": [
      "1000 3304\n"
     ]
    }
   ],
   "execution_count": 6
  },
  {
   "metadata": {},
   "cell_type": "markdown",
   "source": [],
   "id": "f917c3b52298b7c4"
  },
  {
   "metadata": {
    "ExecuteTime": {
     "end_time": "2024-04-29T06:31:04.691081Z",
     "start_time": "2024-04-29T06:31:04.623928Z"
    }
   },
   "cell_type": "code",
   "source": [
    "def read_test(file_path):\n",
    "    TestSample=np.loadtxt(file_path,delimiter=',')\n",
    "    TestSample_row,TestSample_col=TestSample.shape\n",
    "    \n",
    "    print(TestSample_row,TestSample_col)\n",
    "    \n",
    "    k=200\n",
    "    \n",
    "    selected_dim=MTLLable_index[0:k]\n",
    "    TestSub=TestSample[:,selected_dim]\n",
    "    Test_Label=np.ones(800)\n",
    "    Test_Label[400:]=2\n",
    "    return TestSub,Test_Label\n",
    "    \n",
    "if __name__=='__main__':\n",
    "    TestSub,Test_Label=read_test('./test/MTL_Male_test.dat')"
   ],
   "id": "bdeaf30418f6871f",
   "outputs": [
    {
     "name": "stdout",
     "output_type": "stream",
     "text": [
      "800 3304\n"
     ]
    }
   ],
   "execution_count": 7
  },
  {
   "metadata": {
    "ExecuteTime": {
     "end_time": "2024-04-29T06:31:11.221039Z",
     "start_time": "2024-04-29T06:31:04.705367Z"
    }
   },
   "cell_type": "code",
   "source": [
    "import math\n",
    "\n",
    "class KnnClassifier(object):\n",
    "    \n",
    "    def __init__(self, labels, samples):\n",
    "        \"\"\" Initialize classifier with training data. \"\"\"\n",
    "        self.labels = labels\n",
    "        self.samples = samples\n",
    "    \n",
    "    def classify(self, point, k=3):\n",
    "        \"\"\" Classify a point against k nearest \n",
    "            in the training data, return label. \"\"\"\n",
    "        \n",
    "        # compute distance to all training points\n",
    "        dist = np.array([L1dist(point, s) for s in self.samples])\n",
    "        \n",
    "        # sort them\n",
    "        ndx = dist.argsort()\n",
    "        \n",
    "        # use dictionary to store the k nearest\n",
    "        votes = {}\n",
    "        for i in range(k):\n",
    "            label = int(self.labels[ndx[i]])\n",
    "            votes.setdefault(label, 0)\n",
    "            votes[label] += 1\n",
    "            \n",
    "        return max(votes)\n",
    "\n",
    "# L2距离\n",
    "def L2dist(p1, p2):\n",
    "    return math.sqrt(sum((p1 - p2)**2))\n",
    "\n",
    "# L1距离\n",
    "def L1dist(v1, v2):\n",
    "    return sum(abs(v1 - v2))\n",
    "\n",
    "if __name__ == '__main__':\n",
    "    # TestSub, TrainSub, Train_Label 应该是已经定义好的数组变量\n",
    "    model = KnnClassifier(Train_Label,TrainSub)\n",
    "    ans=0\n",
    "    for i in range(800):\n",
    "        if model.classify(TestSub[i])==Test_Label[i]:\n",
    "            ans+=1\n",
    "    print(ans/800)\n"
   ],
   "id": "e04c1e68f8dc00c8",
   "outputs": [
    {
     "name": "stdout",
     "output_type": "stream",
     "text": [
      "0.925\n"
     ]
    }
   ],
   "execution_count": 8
  }
 ],
 "metadata": {
  "kernelspec": {
   "display_name": "Python 3",
   "language": "python",
   "name": "python3"
  },
  "language_info": {
   "codemirror_mode": {
    "name": "ipython",
    "version": 2
   },
   "file_extension": ".py",
   "mimetype": "text/x-python",
   "name": "python",
   "nbconvert_exporter": "python",
   "pygments_lexer": "ipython2",
   "version": "2.7.6"
  }
 },
 "nbformat": 4,
 "nbformat_minor": 5
}
